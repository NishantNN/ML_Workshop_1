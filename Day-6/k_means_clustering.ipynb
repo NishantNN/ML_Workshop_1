{
 "cells": [
  {
   "cell_type": "markdown",
   "metadata": {},
   "source": [
    "### Introduction to K-Means Clustering \n",
    "#### K-Means is an unsupervised machine learning algorithm used to group data points into clusters.\n",
    "#### It works iteratively to assign each data point to one of the K clusters based on similarity."
   ]
  },
  {
   "cell_type": "code",
   "execution_count": 69,
   "metadata": {},
   "outputs": [],
   "source": [
    "import numpy as np\n",
    "import matplotlib.pyplot as plt"
   ]
  },
  {
   "cell_type": "code",
   "execution_count": 70,
   "metadata": {},
   "outputs": [
    {
     "data": {
      "text/plain": [
       "array([[2, 1],\n",
       "       [2, 3]])"
      ]
     },
     "execution_count": 70,
     "metadata": {},
     "output_type": "execute_result"
    }
   ],
   "source": [
    "# Data points as given in the problem\n",
    "x1 = np.array([1, 2, 2, 3, 4, 5])\n",
    "x2 = np.array([1, 1, 3, 2, 3, 5])\n",
    "data = np.column_stack((x1, x2))\n",
    "\n",
    "# Number of clusters\n",
    "k = 2\n",
    "\n",
    "# Step 1: Initialize centroids (randomly select k points from data)\n",
    "np.random.seed(22)  # For reproducibility\n",
    "centroids = data[np.random.choice(data.shape[0], k, replace=False)]\n",
    "centroids"
   ]
  },
  {
   "cell_type": "code",
   "execution_count": 71,
   "metadata": {},
   "outputs": [],
   "source": [
    "# Function to compute Euclidean distance\n",
    "def euclidean_distance(point1, point2):\n",
    "    return np.sqrt(np.sum((point1 - point2) ** 2))"
   ]
  },
  {
   "cell_type": "markdown",
   "metadata": {},
   "source": [
    "- ### For each data point, calculate its distance to each centroid.\n",
    "- ### Assign the data point to the cluster of the nearest centroid."
   ]
  },
  {
   "cell_type": "code",
   "execution_count": 72,
   "metadata": {},
   "outputs": [],
   "source": [
    "# Function to assign clusters based on closest centroids\n",
    "def assign_clusters(data, centroids):\n",
    "    \"\"\"Assign each data point to the closest centroid.\"\"\"\n",
    "   \n",
    "    clusters = []\n",
    "    for point in data:\n",
    "        distances = [euclidean_distance(point, centroid) for centroid in centroids]\n",
    "        clusters.append(np.argmin(distances))  # Index of the closest centroid\n",
    "    return np.array(clusters)\n",
    "\n"
   ]
  },
  {
   "cell_type": "code",
   "execution_count": 73,
   "metadata": {},
   "outputs": [],
   "source": [
    "# Function to compute new centroids as mean of assigned clusters\n",
    "\n",
    "def compute_centroids(data, clusters, k, prev_centroids=None, tolerance=1e-4):\n",
    "    \"\"\"Compute new centroids as the mean of points in each cluster and terminate if centroids do not change.\"\"\"\n",
    "    new_centroids = []\n",
    "    for i in range(k):\n",
    "        cluster_points = data[clusters == i]  # Points in cluster i\n",
    "        if len(cluster_points) > 0:  # Check to avoid empty clusters\n",
    "            new_centroids.append(cluster_points.mean(axis=0))  # Mean of points\n",
    "        else:\n",
    "            new_centroids.append(np.zeros(data.shape[1]))  # Handle empty cluster case\n",
    "    \n",
    "    new_centroids = np.array(new_centroids)\n",
    "\n",
    "    # If centroids have not changed (based on a given tolerance), break the loop\n",
    "    if prev_centroids is not None and np.all(np.abs(new_centroids - prev_centroids) < tolerance):\n",
    "        return new_centroids, True  # Return new centroids and a flag indicating convergence\n",
    "    \n",
    "    return new_centroids, False  # Return new centroids and a flag indicating no convergence yet\n"
   ]
  },
  {
   "cell_type": "markdown",
   "metadata": {},
   "source": [
    "# Summary \n",
    "#### 1. Randomly initialized centroids were chosen.\n",
    "#### 2. Data points were assigned to the closest centroid to form clusters.\n",
    "#### 3. Centroids were updated iteratively until convergence.\n",
    "#### 4. Final clusters and centroids are visualized for better understanding.\n"
   ]
  },
  {
   "cell_type": "code",
   "execution_count": 74,
   "metadata": {},
   "outputs": [
    {
     "name": "stdout",
     "output_type": "stream",
     "text": [
      "Starting K-Means Clustering...\n",
      "Convergence reached after 3 iterations.\n",
      "\n",
      "Final Centroids: [[2.   1.75]\n",
      " [4.5  4.  ]]\n",
      "Cluster Assignments: [0 0 0 0 1 1]\n"
     ]
    },
    {
     "data": {
      "image/png": "[encoded data removed]",
      "text/plain": [
       "<Figure size 800x600 with 1 Axes>"
      ]
     },
     "metadata": {},
     "output_type": "display_data"
    }
   ],
   "source": [
    "# Initial setup\n",
    "prev_centroids = np.zeros_like(centroids)  # Initialize previous centroids for comparison\n",
    "max_iterations = 100\n",
    "iteration = 0\n",
    "converged = False\n",
    "tolerance = 1e-4  # Threshold for convergence\n",
    "\n",
    "print(\"Starting K-Means Clustering...\")\n",
    "\n",
    "# Step 2: Iterate until convergence\n",
    "while iteration < max_iterations and not converged:\n",
    "    # Assign clusters\n",
    "    clusters = assign_clusters(data, centroids)\n",
    "\n",
    "    # Compute new centroids\n",
    "    new_centroids, converged = compute_centroids(data, clusters, k, prev_centroids, tolerance)\n",
    "    \n",
    "    # Check if centroids have converged\n",
    "    if converged:\n",
    "        print(f\"Convergence reached after {iteration + 1} iterations.\")\n",
    "        break\n",
    "\n",
    "    # Update centroids for the next iteration\n",
    "    centroids = new_centroids\n",
    "    prev_centroids = new_centroids  # Update previous centroids for next iteration\n",
    "    iteration += 1\n",
    "\n",
    "# Final output\n",
    "print(\"\\nFinal Centroids:\", centroids)\n",
    "print(\"Cluster Assignments:\", clusters)\n",
    "\n",
    "# Visualization of the results\n",
    "plt.figure(figsize=(8, 6))\n",
    "plt.scatter(data[:, 0], data[:, 1], c=clusters, cmap='viridis', marker='o', label='Data Points')\n",
    "plt.scatter(centroids[:, 0], centroids[:, 1], c='red', marker='x', s=200, label='Centroids')\n",
    "plt.title(\"K-Means Clustering\")\n",
    "plt.xlabel(\"x1\")\n",
    "plt.ylabel(\"x2\")\n",
    "plt.legend()\n",
    "plt.grid(True)\n",
    "plt.show()\n"
   ]
  }
 ],
 "metadata": {
  "kernelspec": {
   "display_name": "pytorch_env",
   "language": "python",
   "name": "python3"
  },
  "language_info": {
   "codemirror_mode": {
    "name": "ipython",
    "version": 3
   },
   "file_extension": ".py",
   "mimetype": "text/x-python",
   "name": "python",
   "nbconvert_exporter": "python",
   "pygments_lexer": "ipython3",
   "version": "3.9.20"
  }
 },
 "nbformat": 4,
 "nbformat_minor": 2
}
